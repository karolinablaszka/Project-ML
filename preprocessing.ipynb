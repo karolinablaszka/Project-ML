{
  "cells": [
    {
      "cell_type": "markdown",
      "metadata": {
        "colab_type": "text",
        "id": "view-in-github"
      },
      "source": [
        "<a href=\"https://colab.research.google.com/github/karolinablaszka/Project-ML/blob/EDA/preprocessing.ipynb\" target=\"_parent\"><img src=\"https://colab.research.google.com/assets/colab-badge.svg\" alt=\"Open In Colab\"/></a>"
      ]
    },
    {
      "cell_type": "code",
      "execution_count": 6,
      "metadata": {
        "id": "H5T5xnNmjaaE"
      },
      "outputs": [],
      "source": [
        "import pandas as pd\n",
        "import numpy as np\n",
        "import matplotlib.pyplot as plt\n",
        "from sklearn.preprocessing import StandardScaler\n",
        "from sklearn.pipeline import make_pipeline\n",
        "from sklearn.decomposition import PCA\n",
        "from sklearn.cluster import KMeans\n",
        "from time import time\n",
        "from sklearn import metrics\n",
        "import plotly.express as px\n",
        "from sklearn.pipeline import Pipeline\n",
        "from sklearn.model_selection import GridSearchCV"
      ]
    },
    {
      "cell_type": "code",
      "execution_count": 7,
      "metadata": {
        "id": "GXOrGenQkHUR"
      },
      "outputs": [],
      "source": [
        "df = pd.read_csv(r'C:/Users/karol/data_ML/train_data.csv', header=None)"
      ]
    },
    {
      "cell_type": "code",
      "execution_count": 8,
      "metadata": {
        "colab": {
          "base_uri": "https://localhost:8080/",
          "height": 297
        },
        "id": "DGEn0-kDkZnS",
        "outputId": "a809a1af-3308-40a7-efb5-b3ff23ccf370"
      },
      "outputs": [
        {
          "data": {
            "text/html": [
              "<div>\n",
              "<style scoped>\n",
              "    .dataframe tbody tr th:only-of-type {\n",
              "        vertical-align: middle;\n",
              "    }\n",
              "\n",
              "    .dataframe tbody tr th {\n",
              "        vertical-align: top;\n",
              "    }\n",
              "\n",
              "    .dataframe thead th {\n",
              "        text-align: right;\n",
              "    }\n",
              "</style>\n",
              "<table border=\"1\" class=\"dataframe\">\n",
              "  <thead>\n",
              "    <tr style=\"text-align: right;\">\n",
              "      <th></th>\n",
              "      <th>0</th>\n",
              "      <th>1</th>\n",
              "      <th>2</th>\n",
              "      <th>3</th>\n",
              "      <th>4</th>\n",
              "      <th>5</th>\n",
              "      <th>6</th>\n",
              "      <th>7</th>\n",
              "      <th>8</th>\n",
              "      <th>9</th>\n",
              "      <th>...</th>\n",
              "      <th>9990</th>\n",
              "      <th>9991</th>\n",
              "      <th>9992</th>\n",
              "      <th>9993</th>\n",
              "      <th>9994</th>\n",
              "      <th>9995</th>\n",
              "      <th>9996</th>\n",
              "      <th>9997</th>\n",
              "      <th>9998</th>\n",
              "      <th>9999</th>\n",
              "    </tr>\n",
              "  </thead>\n",
              "  <tbody>\n",
              "    <tr>\n",
              "      <th>0</th>\n",
              "      <td>304.361</td>\n",
              "      <td>-436.590</td>\n",
              "      <td>-33854.769</td>\n",
              "      <td>-96571.569</td>\n",
              "      <td>-15086.947</td>\n",
              "      <td>-794.409</td>\n",
              "      <td>-442.859</td>\n",
              "      <td>304.248</td>\n",
              "      <td>-202.411</td>\n",
              "      <td>-506.852</td>\n",
              "      <td>...</td>\n",
              "      <td>95.294</td>\n",
              "      <td>-3.936</td>\n",
              "      <td>-251.812</td>\n",
              "      <td>256.429</td>\n",
              "      <td>-473.661</td>\n",
              "      <td>-1398.604</td>\n",
              "      <td>42.638</td>\n",
              "      <td>771.185</td>\n",
              "      <td>-191.123</td>\n",
              "      <td>1356.137</td>\n",
              "    </tr>\n",
              "    <tr>\n",
              "      <th>1</th>\n",
              "      <td>54.047</td>\n",
              "      <td>90.087</td>\n",
              "      <td>-154.747</td>\n",
              "      <td>-4116.486</td>\n",
              "      <td>38365.133</td>\n",
              "      <td>-589.309</td>\n",
              "      <td>1115.367</td>\n",
              "      <td>274.199</td>\n",
              "      <td>814.953</td>\n",
              "      <td>167.272</td>\n",
              "      <td>...</td>\n",
              "      <td>-176.341</td>\n",
              "      <td>-426.238</td>\n",
              "      <td>-542.428</td>\n",
              "      <td>99.147</td>\n",
              "      <td>-102.309</td>\n",
              "      <td>-277.948</td>\n",
              "      <td>-98.859</td>\n",
              "      <td>-1163.779</td>\n",
              "      <td>265.231</td>\n",
              "      <td>-992.056</td>\n",
              "    </tr>\n",
              "    <tr>\n",
              "      <th>2</th>\n",
              "      <td>272.168</td>\n",
              "      <td>-201.736</td>\n",
              "      <td>4212.592</td>\n",
              "      <td>-9123.655</td>\n",
              "      <td>-35422.458</td>\n",
              "      <td>-1029.249</td>\n",
              "      <td>-506.290</td>\n",
              "      <td>-476.856</td>\n",
              "      <td>-570.731</td>\n",
              "      <td>-161.288</td>\n",
              "      <td>...</td>\n",
              "      <td>321.426</td>\n",
              "      <td>-376.033</td>\n",
              "      <td>142.834</td>\n",
              "      <td>920.958</td>\n",
              "      <td>-122.525</td>\n",
              "      <td>-174.304</td>\n",
              "      <td>-137.612</td>\n",
              "      <td>-1571.473</td>\n",
              "      <td>678.323</td>\n",
              "      <td>1020.263</td>\n",
              "    </tr>\n",
              "    <tr>\n",
              "      <th>3</th>\n",
              "      <td>170.007</td>\n",
              "      <td>68.736</td>\n",
              "      <td>48662.079</td>\n",
              "      <td>29735.235</td>\n",
              "      <td>-13903.955</td>\n",
              "      <td>895.081</td>\n",
              "      <td>-257.748</td>\n",
              "      <td>-811.058</td>\n",
              "      <td>-691.561</td>\n",
              "      <td>-31.439</td>\n",
              "      <td>...</td>\n",
              "      <td>-409.919</td>\n",
              "      <td>400.946</td>\n",
              "      <td>313.270</td>\n",
              "      <td>123.172</td>\n",
              "      <td>1786.962</td>\n",
              "      <td>147.637</td>\n",
              "      <td>31.433</td>\n",
              "      <td>-784.719</td>\n",
              "      <td>573.433</td>\n",
              "      <td>1454.415</td>\n",
              "    </tr>\n",
              "    <tr>\n",
              "      <th>4</th>\n",
              "      <td>86.797</td>\n",
              "      <td>180.052</td>\n",
              "      <td>-49643.545</td>\n",
              "      <td>2515.406</td>\n",
              "      <td>26206.315</td>\n",
              "      <td>-407.453</td>\n",
              "      <td>-189.416</td>\n",
              "      <td>-53.664</td>\n",
              "      <td>-159.507</td>\n",
              "      <td>-42.291</td>\n",
              "      <td>...</td>\n",
              "      <td>-101.761</td>\n",
              "      <td>-424.898</td>\n",
              "      <td>37.254</td>\n",
              "      <td>-337.431</td>\n",
              "      <td>423.691</td>\n",
              "      <td>14.240</td>\n",
              "      <td>267.352</td>\n",
              "      <td>-234.560</td>\n",
              "      <td>-213.804</td>\n",
              "      <td>873.391</td>\n",
              "    </tr>\n",
              "  </tbody>\n",
              "</table>\n",
              "<p>5 rows × 10000 columns</p>\n",
              "</div>"
            ],
            "text/plain": [
              "      0        1          2          3          4         5         6     \\\n",
              "0  304.361 -436.590 -33854.769 -96571.569 -15086.947  -794.409  -442.859   \n",
              "1   54.047   90.087   -154.747  -4116.486  38365.133  -589.309  1115.367   \n",
              "2  272.168 -201.736   4212.592  -9123.655 -35422.458 -1029.249  -506.290   \n",
              "3  170.007   68.736  48662.079  29735.235 -13903.955   895.081  -257.748   \n",
              "4   86.797  180.052 -49643.545   2515.406  26206.315  -407.453  -189.416   \n",
              "\n",
              "      7        8        9     ...     9990     9991     9992     9993  \\\n",
              "0  304.248 -202.411 -506.852  ...   95.294   -3.936 -251.812  256.429   \n",
              "1  274.199  814.953  167.272  ... -176.341 -426.238 -542.428   99.147   \n",
              "2 -476.856 -570.731 -161.288  ...  321.426 -376.033  142.834  920.958   \n",
              "3 -811.058 -691.561  -31.439  ... -409.919  400.946  313.270  123.172   \n",
              "4  -53.664 -159.507  -42.291  ... -101.761 -424.898   37.254 -337.431   \n",
              "\n",
              "       9994      9995     9996      9997     9998      9999  \n",
              "0  -473.661 -1398.604   42.638   771.185 -191.123  1356.137  \n",
              "1  -102.309  -277.948  -98.859 -1163.779  265.231  -992.056  \n",
              "2  -122.525  -174.304 -137.612 -1571.473  678.323  1020.263  \n",
              "3  1786.962   147.637   31.433  -784.719  573.433  1454.415  \n",
              "4   423.691    14.240  267.352  -234.560 -213.804   873.391  \n",
              "\n",
              "[5 rows x 10000 columns]"
            ]
          },
          "execution_count": 8,
          "metadata": {},
          "output_type": "execute_result"
        }
      ],
      "source": [
        "df.head()"
      ]
    },
    {
      "cell_type": "code",
      "execution_count": 9,
      "metadata": {
        "colab": {
          "base_uri": "https://localhost:8080/"
        },
        "id": "i5KqruLVK0em",
        "outputId": "41b3c8f7-f44e-44b1-ead0-3f5bb09c7651"
      },
      "outputs": [],
      "source": [
        "#reducing memory usage\n",
        "#for col in df.columns:\n",
        "#    if df[col].dtype == 'float64': df[col] = df[col].astype('float32')\n",
        "#df.info()"
      ]
    },
    {
      "cell_type": "code",
      "execution_count": 10,
      "metadata": {
        "colab": {
          "base_uri": "https://localhost:8080/",
          "height": 390
        },
        "id": "eGYSRiL7HOAX",
        "outputId": "db28497f-c8a7-4482-c1fc-fbc93c205338"
      },
      "outputs": [
        {
          "data": {
            "text/html": [
              "<div>\n",
              "<style scoped>\n",
              "    .dataframe tbody tr th:only-of-type {\n",
              "        vertical-align: middle;\n",
              "    }\n",
              "\n",
              "    .dataframe tbody tr th {\n",
              "        vertical-align: top;\n",
              "    }\n",
              "\n",
              "    .dataframe thead th {\n",
              "        text-align: right;\n",
              "    }\n",
              "</style>\n",
              "<table border=\"1\" class=\"dataframe\">\n",
              "  <thead>\n",
              "    <tr style=\"text-align: right;\">\n",
              "      <th></th>\n",
              "      <th>0</th>\n",
              "      <th>1</th>\n",
              "      <th>2</th>\n",
              "      <th>3</th>\n",
              "      <th>4</th>\n",
              "      <th>5</th>\n",
              "      <th>6</th>\n",
              "      <th>7</th>\n",
              "      <th>8</th>\n",
              "      <th>9</th>\n",
              "      <th>...</th>\n",
              "      <th>9990</th>\n",
              "      <th>9991</th>\n",
              "      <th>9992</th>\n",
              "      <th>9993</th>\n",
              "      <th>9994</th>\n",
              "      <th>9995</th>\n",
              "      <th>9996</th>\n",
              "      <th>9997</th>\n",
              "      <th>9998</th>\n",
              "      <th>9999</th>\n",
              "    </tr>\n",
              "  </thead>\n",
              "  <tbody>\n",
              "    <tr>\n",
              "      <th>count</th>\n",
              "      <td>3750.000000</td>\n",
              "      <td>3750.000000</td>\n",
              "      <td>3750.000000</td>\n",
              "      <td>3750.000000</td>\n",
              "      <td>3750.000000</td>\n",
              "      <td>3750.000000</td>\n",
              "      <td>3750.000000</td>\n",
              "      <td>3750.000000</td>\n",
              "      <td>3750.000000</td>\n",
              "      <td>3750.000000</td>\n",
              "      <td>...</td>\n",
              "      <td>3750.000000</td>\n",
              "      <td>3750.000000</td>\n",
              "      <td>3750.000000</td>\n",
              "      <td>3750.000000</td>\n",
              "      <td>3750.000000</td>\n",
              "      <td>3750.000000</td>\n",
              "      <td>3750.000000</td>\n",
              "      <td>3750.000000</td>\n",
              "      <td>3750.000000</td>\n",
              "      <td>3750.000000</td>\n",
              "    </tr>\n",
              "    <tr>\n",
              "      <th>mean</th>\n",
              "      <td>30.644135</td>\n",
              "      <td>9.080955</td>\n",
              "      <td>169.679419</td>\n",
              "      <td>811.083532</td>\n",
              "      <td>-186.008805</td>\n",
              "      <td>25.717789</td>\n",
              "      <td>24.918118</td>\n",
              "      <td>19.061259</td>\n",
              "      <td>14.826002</td>\n",
              "      <td>14.970447</td>\n",
              "      <td>...</td>\n",
              "      <td>13.997377</td>\n",
              "      <td>21.456582</td>\n",
              "      <td>22.586461</td>\n",
              "      <td>16.736889</td>\n",
              "      <td>13.992185</td>\n",
              "      <td>-1.426345</td>\n",
              "      <td>9.597250</td>\n",
              "      <td>-2.031243</td>\n",
              "      <td>-2.841237</td>\n",
              "      <td>38.071903</td>\n",
              "    </tr>\n",
              "    <tr>\n",
              "      <th>std</th>\n",
              "      <td>286.172414</td>\n",
              "      <td>213.166659</td>\n",
              "      <td>43665.003613</td>\n",
              "      <td>57123.457110</td>\n",
              "      <td>21942.466227</td>\n",
              "      <td>711.556331</td>\n",
              "      <td>898.109174</td>\n",
              "      <td>868.676044</td>\n",
              "      <td>532.727247</td>\n",
              "      <td>236.749501</td>\n",
              "      <td>...</td>\n",
              "      <td>269.223339</td>\n",
              "      <td>545.746530</td>\n",
              "      <td>265.221187</td>\n",
              "      <td>503.416444</td>\n",
              "      <td>818.825405</td>\n",
              "      <td>655.666258</td>\n",
              "      <td>204.731554</td>\n",
              "      <td>793.022407</td>\n",
              "      <td>629.128655</td>\n",
              "      <td>768.405732</td>\n",
              "    </tr>\n",
              "    <tr>\n",
              "      <th>min</th>\n",
              "      <td>-989.450000</td>\n",
              "      <td>-859.922000</td>\n",
              "      <td>-163336.428000</td>\n",
              "      <td>-243844.632000</td>\n",
              "      <td>-77566.109000</td>\n",
              "      <td>-2414.196000</td>\n",
              "      <td>-3227.681000</td>\n",
              "      <td>-3151.321000</td>\n",
              "      <td>-1792.781000</td>\n",
              "      <td>-794.271000</td>\n",
              "      <td>...</td>\n",
              "      <td>-957.937000</td>\n",
              "      <td>-1983.009000</td>\n",
              "      <td>-937.357000</td>\n",
              "      <td>-1758.858000</td>\n",
              "      <td>-2526.791000</td>\n",
              "      <td>-2165.769000</td>\n",
              "      <td>-739.205000</td>\n",
              "      <td>-2731.037000</td>\n",
              "      <td>-2223.909000</td>\n",
              "      <td>-2565.513000</td>\n",
              "    </tr>\n",
              "    <tr>\n",
              "      <th>25%</th>\n",
              "      <td>-163.781750</td>\n",
              "      <td>-135.343500</td>\n",
              "      <td>-29284.119500</td>\n",
              "      <td>-38028.429000</td>\n",
              "      <td>-14426.799500</td>\n",
              "      <td>-448.696750</td>\n",
              "      <td>-590.170250</td>\n",
              "      <td>-562.956500</td>\n",
              "      <td>-349.689750</td>\n",
              "      <td>-144.157750</td>\n",
              "      <td>...</td>\n",
              "      <td>-169.777250</td>\n",
              "      <td>-352.959500</td>\n",
              "      <td>-154.639750</td>\n",
              "      <td>-328.083750</td>\n",
              "      <td>-550.599000</td>\n",
              "      <td>-432.000750</td>\n",
              "      <td>-129.076250</td>\n",
              "      <td>-561.304000</td>\n",
              "      <td>-424.192750</td>\n",
              "      <td>-462.828000</td>\n",
              "    </tr>\n",
              "    <tr>\n",
              "      <th>50%</th>\n",
              "      <td>35.478500</td>\n",
              "      <td>2.680500</td>\n",
              "      <td>1181.698500</td>\n",
              "      <td>980.588000</td>\n",
              "      <td>-154.835000</td>\n",
              "      <td>13.931500</td>\n",
              "      <td>13.674000</td>\n",
              "      <td>16.750500</td>\n",
              "      <td>9.731000</td>\n",
              "      <td>11.159500</td>\n",
              "      <td>...</td>\n",
              "      <td>18.700000</td>\n",
              "      <td>38.348500</td>\n",
              "      <td>26.199500</td>\n",
              "      <td>14.575500</td>\n",
              "      <td>1.363500</td>\n",
              "      <td>-3.796500</td>\n",
              "      <td>8.600500</td>\n",
              "      <td>-4.243000</td>\n",
              "      <td>-7.628000</td>\n",
              "      <td>28.107000</td>\n",
              "    </tr>\n",
              "    <tr>\n",
              "      <th>75%</th>\n",
              "      <td>215.780500</td>\n",
              "      <td>156.095750</td>\n",
              "      <td>29630.914500</td>\n",
              "      <td>40561.960250</td>\n",
              "      <td>14515.833000</td>\n",
              "      <td>506.893250</td>\n",
              "      <td>630.490750</td>\n",
              "      <td>608.698000</td>\n",
              "      <td>383.110500</td>\n",
              "      <td>179.768250</td>\n",
              "      <td>...</td>\n",
              "      <td>196.049000</td>\n",
              "      <td>396.868500</td>\n",
              "      <td>198.237250</td>\n",
              "      <td>356.185500</td>\n",
              "      <td>574.453250</td>\n",
              "      <td>425.338000</td>\n",
              "      <td>149.855750</td>\n",
              "      <td>539.550000</td>\n",
              "      <td>427.794500</td>\n",
              "      <td>552.173500</td>\n",
              "    </tr>\n",
              "    <tr>\n",
              "      <th>max</th>\n",
              "      <td>1224.394000</td>\n",
              "      <td>722.868000</td>\n",
              "      <td>177744.241000</td>\n",
              "      <td>215372.854000</td>\n",
              "      <td>86287.955000</td>\n",
              "      <td>2446.466000</td>\n",
              "      <td>3118.087000</td>\n",
              "      <td>2966.971000</td>\n",
              "      <td>1914.308000</td>\n",
              "      <td>803.200000</td>\n",
              "      <td>...</td>\n",
              "      <td>893.196000</td>\n",
              "      <td>2080.750000</td>\n",
              "      <td>1070.453000</td>\n",
              "      <td>1705.664000</td>\n",
              "      <td>2868.989000</td>\n",
              "      <td>2562.331000</td>\n",
              "      <td>685.176000</td>\n",
              "      <td>3123.617000</td>\n",
              "      <td>2204.527000</td>\n",
              "      <td>2664.074000</td>\n",
              "    </tr>\n",
              "  </tbody>\n",
              "</table>\n",
              "<p>8 rows × 10000 columns</p>\n",
              "</div>"
            ],
            "text/plain": [
              "              0            1              2              3             4     \\\n",
              "count  3750.000000  3750.000000    3750.000000    3750.000000   3750.000000   \n",
              "mean     30.644135     9.080955     169.679419     811.083532   -186.008805   \n",
              "std     286.172414   213.166659   43665.003613   57123.457110  21942.466227   \n",
              "min    -989.450000  -859.922000 -163336.428000 -243844.632000 -77566.109000   \n",
              "25%    -163.781750  -135.343500  -29284.119500  -38028.429000 -14426.799500   \n",
              "50%      35.478500     2.680500    1181.698500     980.588000   -154.835000   \n",
              "75%     215.780500   156.095750   29630.914500   40561.960250  14515.833000   \n",
              "max    1224.394000   722.868000  177744.241000  215372.854000  86287.955000   \n",
              "\n",
              "              5            6            7            8            9     ...  \\\n",
              "count  3750.000000  3750.000000  3750.000000  3750.000000  3750.000000  ...   \n",
              "mean     25.717789    24.918118    19.061259    14.826002    14.970447  ...   \n",
              "std     711.556331   898.109174   868.676044   532.727247   236.749501  ...   \n",
              "min   -2414.196000 -3227.681000 -3151.321000 -1792.781000  -794.271000  ...   \n",
              "25%    -448.696750  -590.170250  -562.956500  -349.689750  -144.157750  ...   \n",
              "50%      13.931500    13.674000    16.750500     9.731000    11.159500  ...   \n",
              "75%     506.893250   630.490750   608.698000   383.110500   179.768250  ...   \n",
              "max    2446.466000  3118.087000  2966.971000  1914.308000   803.200000  ...   \n",
              "\n",
              "              9990         9991         9992         9993         9994  \\\n",
              "count  3750.000000  3750.000000  3750.000000  3750.000000  3750.000000   \n",
              "mean     13.997377    21.456582    22.586461    16.736889    13.992185   \n",
              "std     269.223339   545.746530   265.221187   503.416444   818.825405   \n",
              "min    -957.937000 -1983.009000  -937.357000 -1758.858000 -2526.791000   \n",
              "25%    -169.777250  -352.959500  -154.639750  -328.083750  -550.599000   \n",
              "50%      18.700000    38.348500    26.199500    14.575500     1.363500   \n",
              "75%     196.049000   396.868500   198.237250   356.185500   574.453250   \n",
              "max     893.196000  2080.750000  1070.453000  1705.664000  2868.989000   \n",
              "\n",
              "              9995         9996         9997         9998         9999  \n",
              "count  3750.000000  3750.000000  3750.000000  3750.000000  3750.000000  \n",
              "mean     -1.426345     9.597250    -2.031243    -2.841237    38.071903  \n",
              "std     655.666258   204.731554   793.022407   629.128655   768.405732  \n",
              "min   -2165.769000  -739.205000 -2731.037000 -2223.909000 -2565.513000  \n",
              "25%    -432.000750  -129.076250  -561.304000  -424.192750  -462.828000  \n",
              "50%      -3.796500     8.600500    -4.243000    -7.628000    28.107000  \n",
              "75%     425.338000   149.855750   539.550000   427.794500   552.173500  \n",
              "max    2562.331000   685.176000  3123.617000  2204.527000  2664.074000  \n",
              "\n",
              "[8 rows x 10000 columns]"
            ]
          },
          "execution_count": 10,
          "metadata": {},
          "output_type": "execute_result"
        }
      ],
      "source": [
        "df.describe()"
      ]
    },
    {
      "cell_type": "code",
      "execution_count": 11,
      "metadata": {
        "colab": {
          "base_uri": "https://localhost:8080/"
        },
        "id": "JKYkfFPQgIzk",
        "outputId": "e1a75dc8-ce93-4ad1-a4c4-ac1caac778cf"
      },
      "outputs": [
        {
          "data": {
            "text/plain": [
              "0"
            ]
          },
          "execution_count": 11,
          "metadata": {},
          "output_type": "execute_result"
        }
      ],
      "source": [
        "df.isnull().sum().sum() "
      ]
    },
    {
      "cell_type": "code",
      "execution_count": 12,
      "metadata": {
        "colab": {
          "base_uri": "https://localhost:8080/"
        },
        "id": "wZoecsuFgJGT",
        "outputId": "b0d2df63-790d-4d1c-d2de-7b2a5fcc4602"
      },
      "outputs": [
        {
          "data": {
            "text/plain": [
              "0       0\n",
              "6663    0\n",
              "6664    0\n",
              "6665    0\n",
              "6666    0\n",
              "       ..\n",
              "3334    0\n",
              "3335    0\n",
              "3336    0\n",
              "3329    0\n",
              "9999    0\n",
              "Length: 10000, dtype: int64"
            ]
          },
          "execution_count": 12,
          "metadata": {},
          "output_type": "execute_result"
        }
      ],
      "source": [
        "df.isnull().sum().sort_values()"
      ]
    },
    {
      "cell_type": "code",
      "execution_count": 13,
      "metadata": {
        "id": "-t8enK6RmQBa"
      },
      "outputs": [],
      "source": [
        "df.dropna(axis=1, how='any', inplace=True)"
      ]
    },
    {
      "cell_type": "code",
      "execution_count": 14,
      "metadata": {
        "id": "spKS6ma1gHlg"
      },
      "outputs": [],
      "source": [
        "df.drop_duplicates(subset=None, keep='first', inplace=True)"
      ]
    },
    {
      "cell_type": "code",
      "execution_count": 15,
      "metadata": {
        "colab": {
          "base_uri": "https://localhost:8080/"
        },
        "id": "Sha-Oak8mW_m",
        "outputId": "cd17e0d7-19fe-4a16-e1d0-6ba6f84a034e"
      },
      "outputs": [
        {
          "data": {
            "text/plain": [
              "(3750, 10000)"
            ]
          },
          "execution_count": 15,
          "metadata": {},
          "output_type": "execute_result"
        }
      ],
      "source": [
        "df.shape"
      ]
    },
    {
      "cell_type": "code",
      "execution_count": 16,
      "metadata": {},
      "outputs": [
        {
          "name": "stdout",
          "output_type": "stream",
          "text": [
            "Empty DataFrame\n",
            "Columns: [feature, percentage]\n",
            "Index: []\n"
          ]
        }
      ],
      "source": [
        "missing = [(c, df[c].isna().mean()*100) for c in df]\n",
        "missing = pd.DataFrame(missing, columns=[\"feature\", \"percentage\"])\n",
        "missing = missing[missing.percentage > 0]\n",
        "print(missing.sort_values(\"percentage\", ascending=False))"
      ]
    },
    {
      "cell_type": "code",
      "execution_count": 30,
      "metadata": {},
      "outputs": [
        {
          "name": "stdout",
          "output_type": "stream",
          "text": [
            "0      NaN\n",
            "1      NaN\n",
            "2      NaN\n",
            "3      NaN\n",
            "4      NaN\n",
            "        ..\n",
            "9995   NaN\n",
            "9996   NaN\n",
            "9997   NaN\n",
            "9998   NaN\n",
            "9999   NaN\n",
            "Length: 10000, dtype: float64\n",
            "Old Shape:  (0, 10000)\n",
            "New Shape:  (0, 10000)\n"
          ]
        }
      ],
      "source": [
        "df.head()\n",
        "\n",
        "#outliers\n",
        "#df.columns = column_name\n",
        "\n",
        "''' Detection '''\n",
        "# IQR\n",
        "Q1 = df.quantile(0.25)\n",
        "Q3 = df.quantile(0.75)\n",
        "IQR = Q3 - Q1\n",
        "print(IQR)\n",
        " \n",
        "print(\"Old Shape: \", df.shape)\n",
        " \n",
        "# Upper bound\n",
        "upper = np.where(df >= (Q3+1.5*IQR))\n",
        "# Lower bound\n",
        "lower = np.where(df <= (Q1-1.5*IQR))\n",
        " \n",
        "''' Removing the Outliers '''\n",
        "df.drop(upper[0], inplace = True)\n",
        "df.drop(lower[0], inplace = True)\n",
        " \n",
        "print(\"New Shape: \", df.shape)"
      ]
    },
    {
      "cell_type": "code",
      "execution_count": 32,
      "metadata": {
        "id": "v_xTpKuIg84z"
      },
      "outputs": [],
      "source": [
        "# corr_matrix = df.corr().abs()\n",
        "# print(\"corr matrix\", corr_matrix)"
      ]
    },
    {
      "cell_type": "code",
      "execution_count": 33,
      "metadata": {},
      "outputs": [],
      "source": [
        "# # Select upper triangle of correlation matrix\n",
        "# upper = corr_matrix.where(np.triu(corr_matrix, k=1).astype(np.bool))\n",
        "# print(\"upper triangle\", upper)\n",
        "\n",
        "# # Find index of feature columns with correlation greater than 0.95\n",
        "# to_drop = [column for column in upper.columns if any(upper[column] > 0.95)]\n",
        "# to_drop\n",
        "\n",
        "# # Drop features\n",
        "# df.drop(df.columns[to_drop], axis=1)"
      ]
    },
    {
      "cell_type": "code",
      "execution_count": 35,
      "metadata": {
        "id": "iAwCvaWOg88t"
      },
      "outputs": [
        {
          "ename": "ValueError",
          "evalue": "a must be greater than 0 unless no samples are taken",
          "output_type": "error",
          "traceback": [
            "\u001b[1;31m---------------------------------------------------------------------------\u001b[0m",
            "\u001b[1;31mValueError\u001b[0m                                Traceback (most recent call last)",
            "\u001b[1;32m<ipython-input-35-17bfc97c9424>\u001b[0m in \u001b[0;36m<module>\u001b[1;34m\u001b[0m\n\u001b[1;32m----> 1\u001b[1;33m \u001b[0mdf\u001b[0m\u001b[1;33m.\u001b[0m\u001b[0msample\u001b[0m\u001b[1;33m(\u001b[0m\u001b[1;36m10\u001b[0m\u001b[1;33m)\u001b[0m\u001b[1;33m\u001b[0m\u001b[1;33m\u001b[0m\u001b[0m\n\u001b[0m",
            "\u001b[1;32mc:\\Users\\karol\\anaconda3\\lib\\site-packages\\pandas\\core\\generic.py\u001b[0m in \u001b[0;36msample\u001b[1;34m(self, n, frac, replace, weights, random_state, axis)\u001b[0m\n\u001b[0;32m   4991\u001b[0m             )\n\u001b[0;32m   4992\u001b[0m \u001b[1;33m\u001b[0m\u001b[0m\n\u001b[1;32m-> 4993\u001b[1;33m         \u001b[0mlocs\u001b[0m \u001b[1;33m=\u001b[0m \u001b[0mrs\u001b[0m\u001b[1;33m.\u001b[0m\u001b[0mchoice\u001b[0m\u001b[1;33m(\u001b[0m\u001b[0maxis_length\u001b[0m\u001b[1;33m,\u001b[0m \u001b[0msize\u001b[0m\u001b[1;33m=\u001b[0m\u001b[0mn\u001b[0m\u001b[1;33m,\u001b[0m \u001b[0mreplace\u001b[0m\u001b[1;33m=\u001b[0m\u001b[0mreplace\u001b[0m\u001b[1;33m,\u001b[0m \u001b[0mp\u001b[0m\u001b[1;33m=\u001b[0m\u001b[0mweights\u001b[0m\u001b[1;33m)\u001b[0m\u001b[1;33m\u001b[0m\u001b[1;33m\u001b[0m\u001b[0m\n\u001b[0m\u001b[0;32m   4994\u001b[0m         \u001b[1;32mreturn\u001b[0m \u001b[0mself\u001b[0m\u001b[1;33m.\u001b[0m\u001b[0mtake\u001b[0m\u001b[1;33m(\u001b[0m\u001b[0mlocs\u001b[0m\u001b[1;33m,\u001b[0m \u001b[0maxis\u001b[0m\u001b[1;33m=\u001b[0m\u001b[0maxis\u001b[0m\u001b[1;33m)\u001b[0m\u001b[1;33m\u001b[0m\u001b[1;33m\u001b[0m\u001b[0m\n\u001b[0;32m   4995\u001b[0m \u001b[1;33m\u001b[0m\u001b[0m\n",
            "\u001b[1;32mmtrand.pyx\u001b[0m in \u001b[0;36mnumpy.random.mtrand.RandomState.choice\u001b[1;34m()\u001b[0m\n",
            "\u001b[1;31mValueError\u001b[0m: a must be greater than 0 unless no samples are taken"
          ]
        }
      ],
      "source": [
        "df.sample(10)"
      ]
    },
    {
      "cell_type": "code",
      "execution_count": 40,
      "metadata": {},
      "outputs": [
        {
          "ename": "NameError",
          "evalue": "name 'StandardScaler' is not defined",
          "output_type": "error",
          "traceback": [
            "\u001b[1;31m---------------------------------------------------------------------------\u001b[0m",
            "\u001b[1;31mNameError\u001b[0m                                 Traceback (most recent call last)",
            "\u001b[1;32m<ipython-input-40-f964f5399fe6>\u001b[0m in \u001b[0;36m<module>\u001b[1;34m\u001b[0m\n\u001b[0;32m      2\u001b[0m \u001b[1;33m\u001b[0m\u001b[0m\n\u001b[0;32m      3\u001b[0m \u001b[1;31m#df = pd.DataFrame(data=df.data, columns=df.columns)\u001b[0m\u001b[1;33m\u001b[0m\u001b[1;33m\u001b[0m\u001b[1;33m\u001b[0m\u001b[0m\n\u001b[1;32m----> 4\u001b[1;33m \u001b[0mX\u001b[0m \u001b[1;33m=\u001b[0m \u001b[0mStandardScaler\u001b[0m\u001b[1;33m(\u001b[0m\u001b[1;33m)\u001b[0m\u001b[1;33m.\u001b[0m\u001b[0mfit_transform\u001b[0m\u001b[1;33m(\u001b[0m\u001b[0mdf\u001b[0m\u001b[1;33m.\u001b[0m\u001b[0mdata\u001b[0m\u001b[1;33m)\u001b[0m\u001b[1;33m\u001b[0m\u001b[1;33m\u001b[0m\u001b[0m\n\u001b[0m\u001b[0;32m      5\u001b[0m \u001b[0mpca\u001b[0m \u001b[1;33m=\u001b[0m \u001b[0mPCA\u001b[0m\u001b[1;33m(\u001b[0m\u001b[0mn_components\u001b[0m\u001b[1;33m=\u001b[0m \u001b[1;36m2\u001b[0m\u001b[1;33m)\u001b[0m\u001b[1;33m\u001b[0m\u001b[1;33m\u001b[0m\u001b[0m\n\u001b[0;32m      6\u001b[0m \u001b[0mX_pca\u001b[0m \u001b[1;33m=\u001b[0m \u001b[0mpca\u001b[0m\u001b[1;33m.\u001b[0m\u001b[0mfit_transform\u001b[0m\u001b[1;33m(\u001b[0m\u001b[0mX\u001b[0m\u001b[1;33m)\u001b[0m\u001b[1;33m\u001b[0m\u001b[1;33m\u001b[0m\u001b[0m\n",
            "\u001b[1;31mNameError\u001b[0m: name 'StandardScaler' is not defined"
          ]
        }
      ],
      "source": [
        "#PCA + scatterplot\n",
        "\n",
        "#df = pd.DataFrame(data=df.data, columns=df.columns)\n",
        "X = StandardScaler().fit_transform(df.data)\n",
        "pca = PCA(n_components= 2)\n",
        "X_pca = pca.fit_transform(X)\n",
        "\n",
        "PC_values = np.arange(pca.n_components_) + 1\n",
        "plt.plot(PC_values, pca.explained_variance_ratio_, 'o-', linewidth=2, color='blue')\n",
        "plt.title('Scree Plot')\n",
        "plt.xlabel('Principal Component')\n",
        "plt.ylabel('Variance Explained')\n",
        "plt.show()\n"
      ]
    },
    {
      "cell_type": "markdown",
      "metadata": {
        "id": "0M5I9V9lg3m5"
      },
      "source": []
    }
  ],
  "metadata": {
    "colab": {
      "include_colab_link": true,
      "name": "preprocessing.ipynb",
      "provenance": []
    },
    "interpreter": {
      "hash": "6d14bccc84a4433e5705525915489399e585d86ac1dbac958d08e00ec386d7c1"
    },
    "kernelspec": {
      "display_name": "Python 3.8.5 ('base')",
      "language": "python",
      "name": "python3"
    },
    "language_info": {
      "codemirror_mode": {
        "name": "ipython",
        "version": 3
      },
      "file_extension": ".py",
      "mimetype": "text/x-python",
      "name": "python",
      "nbconvert_exporter": "python",
      "pygments_lexer": "ipython3",
      "version": "3.8.5"
    }
  },
  "nbformat": 4,
  "nbformat_minor": 0
}
