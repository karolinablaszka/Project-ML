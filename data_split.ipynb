{
 "cells": [
  {
   "cell_type": "code",
   "execution_count": 188,
   "id": "8e37638a",
   "metadata": {},
   "outputs": [],
   "source": [
    "import pandas as pd\n",
    "import numpy as np\n",
    "import seaborn as sns\n",
    "from sklearn.dummy import DummyClassifier\n",
    "from sklearn.model_selection import train_test_split, cross_val_score, GridSearchCV\n",
    "from sklearn.tree import DecisionTreeClassifier\n",
    "import matplotlib.pyplot as plt\n",
    "from sklearn.metrics import confusion_matrix, classification_report, ConfusionMatrixDisplay\n",
    "import joblib \n",
    "import warnings\n",
    "warnings.filterwarnings(\"ignore\")"
   ]
  },
  {
   "cell_type": "code",
   "execution_count": 189,
   "id": "bfd39b76",
   "metadata": {},
   "outputs": [],
   "source": [
    "X = joblib.load('train_data_2.pkl')"
   ]
  },
  {
   "cell_type": "code",
   "execution_count": 190,
   "id": "92a61464",
   "metadata": {},
   "outputs": [],
   "source": [
    "y = pd.read_csv(r'src\\data\\data_ML\\train_labels.csv', header=None)"
   ]
  },
  {
   "cell_type": "code",
   "execution_count": 191,
   "id": "6510e498",
   "metadata": {},
   "outputs": [],
   "source": [
    "X_train, X_test, y_train, y_test = train_test_split(X, y, test_size = 0.2, random_state = 42)"
   ]
  },
  {
   "cell_type": "code",
   "execution_count": 192,
   "id": "a480d82e",
   "metadata": {},
   "outputs": [
    {
     "name": "stdout",
     "output_type": "stream",
     "text": [
      "(3750, 7274)\n",
      "(3750, 1)\n"
     ]
    }
   ],
   "source": [
    "print(X.shape)\n",
    "print(y.shape)"
   ]
  },
  {
   "cell_type": "code",
   "execution_count": 193,
   "id": "e3bb7361",
   "metadata": {},
   "outputs": [],
   "source": [
    "dummy_clf = DummyClassifier(strategy=\"most_frequent\", random_state=42)\n",
    "dummy = dummy_clf.fit(X_train, y_train)\n",
    "y_pred = dummy_clf.predict(X_test)\n"
   ]
  },
  {
   "cell_type": "code",
   "execution_count": 194,
   "id": "881bc0bb",
   "metadata": {},
   "outputs": [],
   "source": [
    "def classification(clf, X_train, y_train, X_test, y_test):\n",
    "    clf.fit(X_train, y_train)\n",
    "    y_pred = clf.predict(X_test)\n",
    "        \n",
    "    #Classification report\n",
    "    print(\"CLASSIFICATION REPORT\")\n",
    "    print(\"------------------------------------------\")\n",
    "    print(classification_report(y_test, y_pred))\n",
    "    \n",
    "    \n",
    "    #Plotting the normalized confusion matrix\n",
    "    cm = confusion_matrix(y_test, y_pred)\n",
    "    matrix = ConfusionMatrixDisplay(confusion_matrix = cm, display_labels = clf.classes_)\n",
    "    matrix.plot()\n",
    "    plt.show()\n",
    "    \n",
    "    \n",
    "    \n",
    "    "
   ]
  },
  {
   "cell_type": "code",
   "execution_count": 195,
   "id": "5ea444c7",
   "metadata": {},
   "outputs": [
    {
     "name": "stdout",
     "output_type": "stream",
     "text": [
      "CLASSIFICATION REPORT\n",
      "------------------------------------------\n",
      "              precision    recall  f1-score   support\n",
      "\n",
      "          -1       0.00      0.00      0.00        77\n",
      "           1       0.90      1.00      0.95       673\n",
      "\n",
      "    accuracy                           0.90       750\n",
      "   macro avg       0.45      0.50      0.47       750\n",
      "weighted avg       0.81      0.90      0.85       750\n",
      "\n"
     ]
    },
    {
     "data": {
      "image/png": "[encoded data removed]",
      "text/plain": [
       "<Figure size 432x288 with 2 Axes>"
      ]
     },
     "metadata": {
      "needs_background": "light"
     },
     "output_type": "display_data"
    }
   ],
   "source": [
    "classification(dummy_clf, X_train, y_train, X_test, y_test)"
   ]
  },
  {
   "cell_type": "code",
   "execution_count": 196,
   "id": "de137457",
   "metadata": {},
   "outputs": [
    {
     "data": {
      "text/plain": [
       " 1    0.900667\n",
       "-1    0.099333\n",
       "dtype: float64"
      ]
     },
     "execution_count": 196,
     "metadata": {},
     "output_type": "execute_result"
    }
   ],
   "source": [
    "y_train.value_counts(normalize=True)\n",
    "# We clearly have a class imbalance problem\n",
    "# To address this we can SMOTE the training data and see \n",
    "# if training a model with this method would improve our results."
   ]
  },
  {
   "cell_type": "code",
   "execution_count": 197,
   "id": "eaebb4fe",
   "metadata": {},
   "outputs": [
    {
     "data": {
      "text/plain": [
       " 1    0.5\n",
       "-1    0.5\n",
       "dtype: float64"
      ]
     },
     "execution_count": 197,
     "metadata": {},
     "output_type": "execute_result"
    }
   ],
   "source": [
    "from imblearn.over_sampling import SMOTE\n",
    "sm = SMOTE()\n",
    "X_train_sm, y_train_sm = sm.fit_resample(X_train, y_train)\n",
    "y_train_sm.value_counts(normalize=True)"
   ]
  },
  {
   "cell_type": "code",
   "execution_count": 198,
   "id": "e177be42",
   "metadata": {},
   "outputs": [
    {
     "name": "stdout",
     "output_type": "stream",
     "text": [
      "CLASSIFICATION REPORT\n",
      "------------------------------------------\n",
      "              precision    recall  f1-score   support\n",
      "\n",
      "          -1       0.11      0.56      0.18        77\n",
      "           1       0.90      0.47      0.62       673\n",
      "\n",
      "    accuracy                           0.48       750\n",
      "   macro avg       0.50      0.51      0.40       750\n",
      "weighted avg       0.82      0.48      0.57       750\n",
      "\n"
     ]
    },
    {
     "data": {
      "image/png": "[encoded data removed]",
      "text/plain": [
       "<Figure size 432x288 with 2 Axes>"
      ]
     },
     "metadata": {
      "needs_background": "light"
     },
     "output_type": "display_data"
    }
   ],
   "source": [
    "clf_dummy_sm = DummyClassifier()\n",
    "clf_dummy_sm.fit(X_train, y_train)\n",
    "\n",
    "classification(clf_dummy_sm, X_train_sm, y_train_sm, X_test, y_test)"
   ]
  },
  {
   "cell_type": "code",
   "execution_count": 201,
   "id": "c5aefedd",
   "metadata": {},
   "outputs": [
    {
     "name": "stdout",
     "output_type": "stream",
     "text": [
      "CLASSIFICATION REPORT\n",
      "------------------------------------------\n",
      "              precision    recall  f1-score   support\n",
      "\n",
      "          -1       0.00      0.00      0.00        77\n",
      "           1       0.90      1.00      0.95       673\n",
      "\n",
      "    accuracy                           0.90       750\n",
      "   macro avg       0.45      0.50      0.47       750\n",
      "weighted avg       0.81      0.90      0.85       750\n",
      "\n"
     ]
    },
    {
     "data": {
      "image/png": "[encoded data removed]",
      "text/plain": [
       "<Figure size 432x288 with 2 Axes>"
      ]
     },
     "metadata": {
      "needs_background": "light"
     },
     "output_type": "display_data"
    }
   ],
   "source": [
    "from sklearn.ensemble import RandomForestClassifier\n",
    "from sklearn.preprocessing import StandardScaler\n",
    "\n",
    "scaler = StandardScaler()\n",
    "X_train = scaler.fit_transform(X_train, y_train)\n",
    "X_test = scaler.transform(X_test)\n",
    "\n",
    "smote = SMOTE()\n",
    "X_train, y_train = smote.fit_resample(X_train, y_train)\n",
    "\n",
    "\n",
    "rfc_clf = RandomForestClassifier(random_state = 42, class_weight='balanced')\n",
    "rfc_clf.fit(X_train, y_train)\n",
    "\n",
    "classification(rfc_clf, X_train, y_train, X_test, y_test)"
   ]
  },
  {
   "cell_type": "code",
   "execution_count": 202,
   "id": "83870fc4",
   "metadata": {},
   "outputs": [
    {
     "name": "stdout",
     "output_type": "stream",
     "text": [
      "{'bootstrap': True, 'ccp_alpha': 0.0, 'class_weight': None, 'criterion': 'gini', 'max_depth': None, 'max_features': 'auto', 'max_leaf_nodes': None, 'max_samples': None, 'min_impurity_decrease': 0.0, 'min_impurity_split': None, 'min_samples_leaf': 1, 'min_samples_split': 2, 'min_weight_fraction_leaf': 0.0, 'n_estimators': 100, 'n_jobs': None, 'oob_score': False, 'random_state': 42, 'verbose': 0, 'warm_start': False}\n"
     ]
    }
   ],
   "source": [
    "print(rfc_clf.get_params())"
   ]
  },
  {
   "cell_type": "code",
   "execution_count": null,
   "id": "6e0475ad",
   "metadata": {},
   "outputs": [],
   "source": [
    "from sklearn.linear_model import LogisticRegression\n",
    "from sklearn.preprocessing import StandardScaler\n",
    "\n",
    "scaler = StandardScaler()\n",
    "X_train = scaler.fit_transform(X_train, y_train)\n",
    "X_test = scaler.transform(X_test)\n",
    "\n",
    "smote = SMOTE()\n",
    "X_train, y_train = smote.fit_resample(X_train, y_train)\n",
    "\n",
    "\n",
    "lo_clf = LogisticRegression(random_state=42, class_weight='balanced', solver='liblinear', multi_class='auto', max_iter=1000)\n",
    "lo_clf.fit(X_train, y_train)\n",
    "\n",
    "classification(lo_clf, X_train, y_train, X_test, y_test)"
   ]
  }
 ],
 "metadata": {
  "kernelspec": {
   "display_name": "Python 3.8.5 ('base')",
   "language": "python",
   "name": "python3"
  },
  "language_info": {
   "codemirror_mode": {
    "name": "ipython",
    "version": 3
   },
   "file_extension": ".py",
   "mimetype": "text/x-python",
   "name": "python",
   "nbconvert_exporter": "python",
   "pygments_lexer": "ipython3",
   "version": "3.8.5"
  },
  "vscode": {
   "interpreter": {
    "hash": "6d14bccc84a4433e5705525915489399e585d86ac1dbac958d08e00ec386d7c1"
   }
  }
 },
 "nbformat": 4,
 "nbformat_minor": 5
}
